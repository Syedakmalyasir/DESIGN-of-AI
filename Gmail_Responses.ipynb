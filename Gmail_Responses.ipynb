{
  "nbformat": 4,
  "nbformat_minor": 0,
  "metadata": {
    "colab": {
      "provenance": []
    },
    "kernelspec": {
      "name": "python3",
      "display_name": "Python 3"
    },
    "language_info": {
      "name": "python"
    }
  },
  "cells": [
    {
      "cell_type": "code",
      "execution_count": null,
      "metadata": {
        "id": "tH4_rKhPw1dd",
        "colab": {
          "base_uri": "https://localhost:8080/"
        },
        "outputId": "8c8291ab-a1fb-4fb0-9080-5bc6a4755439"
      },
      "outputs": [
        {
          "output_type": "stream",
          "name": "stdout",
          "text": [
            "New Email: Can you send me the details for the upcoming meeting?\n",
            "Predicted Response: Sure, what time?\n"
          ]
        }
      ],
      "source": [
        "import pandas as pd\n",
        "from sklearn.model_selection import train_test_split\n",
        "from sklearn.feature_extraction.text import TfidfVectorizer\n",
        "from sklearn.naive_bayes import MultinomialNB\n",
        "from sklearn.pipeline import make_pipeline\n",
        "data = {\n",
        "    'email_text': [\n",
        "        \"Hi, how are you?\",\n",
        "        \"Can we meet tomorrow?\",\n",
        "        \"Regarding our meeting\",\n",
        "        \"Thanks for your email\",\n",
        "        \"See you later\"\n",
        "    ],\n",
        "    'reply': [\n",
        "        \"I'm good, thanks!\",\n",
        "        \"Sure, let's meet\",\n",
        "        \"Sure, what time?\",\n",
        "        \"You're welcome!\",\n",
        "        \"Goodbye\"\n",
        "    ]\n",
        "}\n",
        "df = pd.DataFrame(data)\n",
        "\n",
        "train_data, test_data, train_labels, test_labels = train_test_split(\n",
        "    df['email_text'], df['reply'], test_size=0.2, random_state=42)\n",
        "model = make_pipeline(TfidfVectorizer(), MultinomialNB())\n",
        "model.fit(train_data, train_labels)\n",
        "predictions = model.predict(test_data)\n",
        "new_email = [\"Can you send me the details for the upcoming meeting?\"]\n",
        "\n",
        "predicted_response = model.predict(new_email)\n",
        "\n",
        "print(\"New Email:\", new_email[0])\n",
        "print(\"Predicted Response:\", predicted_response[0])"
      ]
    }
  ]
}