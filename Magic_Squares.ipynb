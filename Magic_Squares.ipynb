{
  "nbformat": 4,
  "nbformat_minor": 0,
  "metadata": {
    "colab": {
      "provenance": []
    },
    "kernelspec": {
      "name": "python3",
      "display_name": "Python 3"
    },
    "language_info": {
      "name": "python"
    }
  },
  "cells": [
    {
      "cell_type": "code",
      "execution_count": null,
      "metadata": {
        "id": "sHMVt3tq0lm_",
        "colab": {
          "base_uri": "https://localhost:8080/"
        },
        "outputId": "a810cb8d-a6d1-4a09-fd06-53f74d44d068"
      },
      "outputs": [
        {
          "output_type": "stream",
          "name": "stdout",
          "text": [
            " 8  1  6\n",
            " 3  5  7\n",
            " 4  9  2\n",
            "\n",
            "Sum of any row, column, or diagonal is always 15\n",
            "\n"
          ]
        }
      ],
      "source": [
        "def generate_magic_square(n=3):\n",
        "    if n % 2 == 0:\n",
        "        raise ValueError(\"n must be odd\")\n",
        "    magic_square = [[0] * n for _ in range(n)]\n",
        "    num = 1\n",
        "    i, j = 0, n // 2\n",
        "\n",
        "    while num <= n**2:\n",
        "        magic_square[i][j] = num\n",
        "        num += 1\n",
        "\n",
        "        newi, newj = (i - 1) % n, (j + 1) % n\n",
        "\n",
        "        if magic_square[newi][newj]:\n",
        "            i += 1\n",
        "        else:\n",
        "            i, j = newi, newj\n",
        "\n",
        "    return magic_square\n",
        "def print_magic_square(square):\n",
        "    n = len(square)\n",
        "    for row in square:\n",
        "        print(' '.join([str(cell).rjust(2) for cell in row]))\n",
        "    print(f\"\\nSum of any row, column, or diagonal is always {n*(n**2+1)//2}\\n\")\n",
        "magic_square = generate_magic_square()\n",
        "print_magic_square(magic_square)"
      ]
    }
  ]
}